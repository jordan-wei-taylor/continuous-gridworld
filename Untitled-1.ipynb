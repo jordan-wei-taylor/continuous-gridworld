{
 "cells": [
  {
   "cell_type": "code",
   "execution_count": 5,
   "metadata": {},
   "outputs": [],
   "source": [
    "from   matplotlib import pyplot as plt, patches, animation\n",
    "\n",
    "import numpy as np"
   ]
  },
  {
   "cell_type": "code",
   "execution_count": 6,
   "metadata": {},
   "outputs": [],
   "source": [
    "class Base():\n",
    "\n",
    "    def __init__(self, params, exceptions = ['self', '__class__']):\n",
    "        self.__params = []\n",
    "        for key, value in params.items():\n",
    "            if key not in exceptions:\n",
    "                setattr(self, key, value)\n",
    "                self.__params.append(key)\n",
    "        self.__name__ = self.__class__.__name__\n",
    "\n",
    "    def __repr__(self):\n",
    "        inner = ', '.join([f'{key} = {getattr(self, key)}' for key in self.__params])\n",
    "        return f'{self.__name__}({inner})'\n",
    "\n",
    "class ObjectPatch(Base):\n",
    "\n",
    "    def __init__(self, patch, loc, *args, **kwargs):\n",
    "        super().__init__(locals())\n",
    "\n",
    "    @property\n",
    "    def xy(self):\n",
    "        return self._correction(self.loc)\n",
    "\n",
    "    def _correction(self, loc):\n",
    "        return loc\n",
    "\n",
    "    def get_patch(self):\n",
    "        return self.patch(self.xy, *self.args, **self.kwargs)\n",
    "        \n",
    "    def __call__(self, loc):\n",
    "        self.loc = loc\n",
    "        return self\n",
    "\n",
    "class RectanglePatch(ObjectPatch):\n",
    "\n",
    "    def __init__(self, loc, dx, dy, **kwargs):\n",
    "        super().__init__(patches.Rectangle, loc, dx, dy, lw = 0, **kwargs)\n",
    "        self.dx = dx\n",
    "        self.dy = dy\n",
    "        \n",
    "    def _correction(self, loc):\n",
    "        return (loc[0] - self.dx / 2, loc[1] - self.dy / 2)\n",
    "\n",
    "class CirclePatch(ObjectPatch):\n",
    "\n",
    "    def __init__(self, loc, r, **kwargs):\n",
    "        super().__init__(patches.Circle, loc, r, lw = 0, **kwargs)        \n",
    "\n",
    "class Grid(Base):\n",
    "\n",
    "    def __init__(self, x, y, walls, fc = 'k', lw = 0.1, figsize = None):\n",
    "        super().__init__(locals())\n",
    "\n",
    "    def _gather_walls(self):\n",
    "        walls = []\n",
    "        for ((x, y), dx, dy) in self.walls:\n",
    "            xy   = (x - self.lw, y - self.lw)\n",
    "            wall = patches.Rectangle(xy, dx + 2 * self.lw, dy + 2 * self.lw, lw = 0.01, fc = self.fc)\n",
    "            walls.append(wall)\n",
    "        return walls\n",
    "        \n",
    "    def _render_skeleton(self):\n",
    "        (fig, ax) = (self.fig, self.ax) = plt.subplots(figsize = self.figsize)\n",
    "\n",
    "        ax.set_xlim((0, self.x))\n",
    "        ax.set_ylim((0, self.y))\n",
    "\n",
    "        for wall in self._gather_walls():\n",
    "            ax.add_patch(wall)\n",
    "\n",
    "    def _gather_patches(self, objects):\n",
    "        ret = []\n",
    "        for obj in objects:\n",
    "            patch = obj.get_patch()\n",
    "            ret.append(patch)\n",
    "        return ret\n",
    "\n",
    "    def render(self, *objects):\n",
    "        self._render_skeleton()\n",
    "        for patch in self._gather_patches(objects):\n",
    "            self.ax.add_patch(patch)\n",
    "        return self. fig, self.ax\n",
    "\n",
    "class GridWorld(Base):\n",
    "\n",
    "    def __init__(self, grid, agent, terminal, initial_states = None):\n",
    "        assert isinstance(grid, Grid)\n",
    "        assert isinstance(terminal, (list, tuple))\n",
    "        assert isinstance(initial_states, (list, tuple)) or initial_states is None\n",
    "        super().__init__(locals())\n",
    "        self.boundaries = grid._gather_walls()\n",
    "\n",
    "        if initial_states:\n",
    "            for state in initial_states:\n",
    "                agent(state)\n",
    "                if np.any(self._check_overlap(*agent.get_patch().get_verts())):\n",
    "                    raise Exception()\n",
    "        \n",
    "\n",
    "    def _check_overlap(self, *coords):\n",
    "        ret = []\n",
    "        for wall in self.grid._gather_walls():\n",
    "            if any(wall.get_path().contains_points(coords, wall.get_transform())):\n",
    "                ret.append(wall)\n",
    "        return ret\n",
    "        \n",
    "    def reset(self):\n",
    "        self.terminal = False\n",
    "        if self.initial_states:\n",
    "            self.state = loc = np.random.choice(self.initial_states)\n",
    "            return loc\n",
    "        else:\n",
    "            loc = np.random.uniform((0, 0), (self.grid.x, self.grid.y))\n",
    "            while self._check_overlap(*self.agent(loc).get_patch().get_verts()):\n",
    "                loc = np.random.uniform((0, 0), (self.grid.x, self.grid.y))\n",
    "            self.state = loc\n",
    "            return loc\n",
    "\n",
    "    def step(self, action):\n",
    "        action = np.array(action)\n",
    "        assert action.ndim == 2\n",
    "        new    = self.agent.loc + action\n",
    "        check  = self._check(new)\n",
    "        \n",
    "        \n",
    "    def render(self):\n",
    "        self.agent(self.state)\n",
    "        return self.grid.render(self.agent)"
   ]
  },
  {
   "cell_type": "code",
   "execution_count": 7,
   "metadata": {},
   "outputs": [],
   "source": [
    "walls = [[(0, 0), 10, 0.2],\n",
    "         [(0, 0), 0.2, 10],\n",
    "         [(9.8, 0), 0.2, 10],\n",
    "         [(0, 9.8), 10, 0.1],\n",
    "         [(0, 4.9), 2.5, 0.2],\n",
    "         [(3.5, 4.9), 3, 0.2],\n",
    "         [(7.5, 4.9), 2.5, 0.2],\n",
    "         [(4.9, 0), 0.2, 2.5],\n",
    "         [(4.9, 3.5), 0.2, 3],\n",
    "         [(4.9, 7.5), 0.2, 2.5]]\n",
    "\n",
    "\n",
    "agent_patch = RectanglePatch((5, 2), 0.4, 0.4, fc = 'g', ec = 'k')\n",
    "\n",
    "grid  = Grid(10, 10, walls)"
   ]
  },
  {
   "cell_type": "code",
   "execution_count": 8,
   "metadata": {},
   "outputs": [
    {
     "name": "stdout",
     "output_type": "stream",
     "text": [
      "[<matplotlib.patches.Rectangle object at 0x7f8e5834d510>]\n"
     ]
    },
    {
     "data": {
      "image/png": "[encoded data removed]",
      "text/plain": [
       "<Figure size 432x288 with 1 Axes>"
      ]
     },
     "metadata": {
      "needs_background": "light"
     },
     "output_type": "display_data"
    }
   ],
   "source": [
    "gridworld = GridWorld(grid, agent_patch, [])\n",
    "\n",
    "for i in range(1000):\n",
    "    gridworld.reset()\n",
    "\n",
    "    fig, ax = gridworld.render()\n",
    "\n",
    "    ax.set_aspect('equal')\n",
    "\n",
    "    check = gridworld._check_overlap(gridworld.state)\n",
    "    if check:\n",
    "        print(check)\n",
    "        plt.show()\n",
    "        break\n",
    "    \n",
    "    plt.close()\n",
    "\n",
    "    "
   ]
  },
  {
   "cell_type": "code",
   "execution_count": 9,
   "metadata": {},
   "outputs": [
    {
     "data": {
      "text/plain": [
       "[]"
      ]
     },
     "execution_count": 9,
     "metadata": {},
     "output_type": "execute_result"
    }
   ],
   "source": [
    "gridworld._check_overlap(*gridworld.agent(gridworld.state).get_patch().get_verts())"
   ]
  },
  {
   "cell_type": "code",
   "execution_count": 16,
   "metadata": {},
   "outputs": [
    {
     "data": {
      "text/plain": [
       "[array([False, False, False, False, False]),\n",
       " array([False, False, False, False, False]),\n",
       " array([False, False, False, False, False]),\n",
       " array([False, False, False, False, False]),\n",
       " array([False, False, False, False, False]),\n",
       " array([False, False, False, False, False]),\n",
       " array([False, False, False, False, False]),\n",
       " array([False, False, False, False, False]),\n",
       " array([False, False, False, False, False]),\n",
       " array([False, False, False, False, False])]"
      ]
     },
     "execution_count": 16,
     "metadata": {},
     "output_type": "execute_result"
    }
   ],
   "source": [
    "[wall.get_path().contains_points(gridworld.agent.get_patch().get_verts(), wall.get_transform()) for wall in gridworld.grid._gather_walls()]"
   ]
  },
  {
   "cell_type": "code",
   "execution_count": 18,
   "metadata": {},
   "outputs": [
    {
     "data": {
      "text/plain": [
       "array([5.50399157, 9.86403045])"
      ]
     },
     "execution_count": 18,
     "metadata": {},
     "output_type": "execute_result"
    }
   ],
   "source": [
    "gridworld.agent.loc"
   ]
  },
  {
   "cell_type": "code",
   "execution_count": 300,
   "metadata": {},
   "outputs": [
    {
     "data": {
      "text/plain": [
       "[<matplotlib.patches.Rectangle at 0x7fb5c2c39180>]"
      ]
     },
     "execution_count": 300,
     "metadata": {},
     "output_type": "execute_result"
    }
   ],
   "source": [
    "gridworld._check_overlap(*gridworld.agent.get_patch().get_verts())"
   ]
  },
  {
   "cell_type": "code",
   "execution_count": 286,
   "metadata": {},
   "outputs": [
    {
     "data": {
      "text/plain": [
       "False"
      ]
     },
     "execution_count": 286,
     "metadata": {},
     "output_type": "execute_result"
    }
   ],
   "source": [
    "step  = np.array([0, 0.5])\n",
    "new   = gridworld.state + step\n",
    "\n",
    "check = gridworld._check_overlap(new.reshape(1, 2))\n",
    "\n",
    "# check[0].get_verts(), new\n",
    "\n",
    "gridworld.grid._gather_walls()[0].get_path().contains_point(new, gridworld.grid._gather_walls()[0].get_transform())"
   ]
  },
  {
   "cell_type": "code",
   "execution_count": 272,
   "metadata": {},
   "outputs": [
    {
     "data": {
      "text/plain": [
       "(True, True)"
      ]
     },
     "execution_count": 272,
     "metadata": {},
     "output_type": "execute_result"
    }
   ],
   "source": [
    "-0.1 < new[0] < 2.6, 4.8 < new[1] < 5.2"
   ]
  },
  {
   "cell_type": "code",
   "execution_count": 273,
   "metadata": {},
   "outputs": [
    {
     "data": {
      "text/plain": [
       "<bound method Grid._gather_walls of Grid(x = 10, y = 10, walls = [[(0, 0), 10, 0.2], [(0, 0), 0.2, 10], [(9.8, 0), 0.2, 10], [(0, 9.8), 10, 0.1], [(0, 4.9), 2.5, 0.2], [(3.5, 4.9), 3, 0.2], [(7.5, 4.9), 2.5, 0.2], [(4.9, 0), 0.2, 2.5], [(4.9, 3.5), 0.2, 3], [(4.9, 7.5), 0.2, 2.5]], fc = k, lw = 0.1, figsize = None)>"
      ]
     },
     "execution_count": 273,
     "metadata": {},
     "output_type": "execute_result"
    }
   ],
   "source": [
    "loc = np.random.uniform((0, 0), (10, 10))\n",
    "\n",
    "gridworld.grid._gather_walls"
   ]
  },
  {
   "cell_type": "code",
   "execution_count": 156,
   "metadata": {},
   "outputs": [
    {
     "data": {
      "text/plain": [
       "RectanglePatch(patch = <class 'matplotlib.patches.Rectangle'>, loc = (5, 2), args = (0.4, 0.4), kwargs = {'lw': 0, 'fc': 'g', 'ec': 'k'})"
      ]
     },
     "execution_count": 156,
     "metadata": {},
     "output_type": "execute_result"
    }
   ],
   "source": []
  },
  {
   "cell_type": "code",
   "execution_count": 101,
   "metadata": {},
   "outputs": [
    {
     "data": {
      "text/plain": [
       "AgentRectanglePatch(loc = (5, 3), patch = <class 'matplotlib.patches.Rectangle'>, args = ((4.8, 2.8), 0.4, 0.4), kwargs = {'fc': 'g', 'ec': 'k'})"
      ]
     },
     "execution_count": 101,
     "metadata": {},
     "output_type": "execute_result"
    }
   ],
   "source": [
    "agent_patch"
   ]
  },
  {
   "cell_type": "code",
   "execution_count": 160,
   "metadata": {},
   "outputs": [
    {
     "data": {
      "text/plain": [
       "True"
      ]
     },
     "execution_count": 160,
     "metadata": {},
     "output_type": "execute_result"
    }
   ],
   "source": [
    "np.any([e.get_path().contains_points(agent_patch.get_patch().get_verts(), e.get_transform()) for e in grid._gather_walls()])"
   ]
  },
  {
   "cell_type": "code",
   "execution_count": 157,
   "metadata": {},
   "outputs": [
    {
     "data": {
      "text/plain": [
       "<matplotlib.patches.Rectangle at 0x7fb5c2ecb5e0>"
      ]
     },
     "execution_count": 157,
     "metadata": {},
     "output_type": "execute_result"
    }
   ],
   "source": [
    "agent_patch.get_patch()"
   ]
  }
 ],
 "metadata": {
  "interpreter": {
   "hash": "8dca16016c2d4ab245247b0cca54328521f93bbda40bfa10199d14f725066261"
  },
  "kernelspec": {
   "display_name": "Python 3.10.4 ('env': venv)",
   "language": "python",
   "name": "python3"
  },
  "language_info": {
   "codemirror_mode": {
    "name": "ipython",
    "version": 3
   },
   "file_extension": ".py",
   "mimetype": "text/x-python",
   "name": "python",
   "nbconvert_exporter": "python",
   "pygments_lexer": "ipython3",
   "version": "3.10.4"
  },
  "orig_nbformat": 4
 },
 "nbformat": 4,
 "nbformat_minor": 2
}
