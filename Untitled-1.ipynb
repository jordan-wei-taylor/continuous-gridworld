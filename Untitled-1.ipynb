{
 "cells": [
  {
   "cell_type": "code",
   "execution_count": 2,
   "metadata": {},
   "outputs": [],
   "source": [
    "from   matplotlib import pyplot as plt, patches, animation\n",
    "\n",
    "import numpy as np"
   ]
  },
  {
   "cell_type": "code",
   "execution_count": 3,
   "metadata": {},
   "outputs": [],
   "source": [
    "class Base():\n",
    "\n",
    "    def __init__(self, params, exceptions = ['self', '__class__']):\n",
    "        self.__params = []\n",
    "        for key, value in params.items():\n",
    "            if key not in exceptions:\n",
    "                setattr(self, key, value)\n",
    "                self.__params.append(key)\n",
    "        self.__name__ = self.__class__.__name__\n",
    "\n",
    "    def __repr__(self):\n",
    "        inner = ', '.join([f'{key} = {getattr(self, key)}' for key in self.__params])\n",
    "        return f'{self.__name__}({inner})'\n",
    "\n",
    "class ObjectPatch(Base):\n",
    "\n",
    "    def __init__(self, patch, loc, *args, **kwargs):\n",
    "        super().__init__(locals())\n",
    "\n",
    "    @property\n",
    "    def xy(self):\n",
    "        return self._correction(self.loc)\n",
    "\n",
    "    def _correction(self, loc):\n",
    "        return loc\n",
    "\n",
    "    def get_patch(self):\n",
    "        return self.patch(self.xy, *self.args, **self.kwargs)\n",
    "        \n",
    "    def __call__(self, loc):\n",
    "        self.loc = loc\n",
    "        return self\n",
    "\n",
    "class RectanglePatch(ObjectPatch):\n",
    "\n",
    "    def __init__(self, loc, dx, dy, **kwargs):\n",
    "        super().__init__(patches.Rectangle, loc, dx, dy, lw = 0, **kwargs)\n",
    "        self.dx = dx\n",
    "        self.dy = dy\n",
    "        \n",
    "    def _correction(self, loc):\n",
    "        return (loc[0] - self.dx / 2, loc[1] - self.dy / 2)\n",
    "\n",
    "class CirclePatch(ObjectPatch):\n",
    "\n",
    "    def __init__(self, loc, r, **kwargs):\n",
    "        super().__init__(patches.Circle, loc, r, lw = 0, **kwargs)        \n",
    "\n",
    "class Grid(Base):\n",
    "\n",
    "    def __init__(self, x, y, walls, fc = 'k', lw = 0.1, figsize = None):\n",
    "        super().__init__(locals())\n",
    "\n",
    "    def _gather_walls(self):\n",
    "        walls = []\n",
    "        for ((x, y), dx, dy) in self.walls:\n",
    "            xy   = (x - self.lw, y - self.lw)\n",
    "            wall = patches.Rectangle(xy, dx + 2 * self.lw, dy + 2 * self.lw, lw = 0.01, fc = self.fc)\n",
    "            walls.append(wall)\n",
    "        return walls\n",
    "        \n",
    "    def _render_skeleton(self):\n",
    "        (fig, ax) = (self.fig, self.ax) = plt.subplots(figsize = self.figsize)\n",
    "\n",
    "        ax.set_xlim((0, self.x))\n",
    "        ax.set_ylim((0, self.y))\n",
    "\n",
    "        for wall in self._gather_walls():\n",
    "            ax.add_patch(wall)\n",
    "\n",
    "    def _gather_patches(self, objects):\n",
    "        ret = []\n",
    "        for obj in objects:\n",
    "            patch = obj.get_patch()\n",
    "            ret.append(patch)\n",
    "        return ret\n",
    "\n",
    "    def render(self, *objects):\n",
    "        self._render_skeleton()\n",
    "        for patch in self._gather_patches(objects):\n",
    "            self.ax.add_patch(patch)\n",
    "        return self. fig, self.ax\n",
    "\n",
    "class GridWorld(Base):\n",
    "\n",
    "    def __init__(self, grid, agent, terminal_states, initial_states = None):\n",
    "        assert isinstance(grid, Grid)\n",
    "        assert isinstance(terminal_states, (list, tuple))\n",
    "        assert isinstance(initial_states, (list, tuple)) or initial_states is None\n",
    "        super().__init__(locals())\n",
    "        self.boundaries = grid._gather_walls()\n",
    "\n",
    "        if initial_states:\n",
    "            for state in initial_states:\n",
    "                agent(state)\n",
    "                if np.any(self._check_overlap(*agent.get_patch().get_verts())):\n",
    "                    raise Exception()\n",
    "        \n",
    "    def _check_terminal(self):\n",
    "        for reward, state in self.terminal_states:\n",
    "            state = state.get_patch()\n",
    "            if any(state.get_path().contains_points(self.agent.get_patch().get_verts(), state.get_transform())):\n",
    "                self.terminal = True\n",
    "                return reward\n",
    "        return 0\n",
    "\n",
    "    def _check_overlap(self, *coords):\n",
    "        ret = []\n",
    "        for wall in self.grid._gather_walls():\n",
    "            if any(wall.get_path().contains_points(coords, wall.get_transform())):\n",
    "                ret.append(wall)\n",
    "        return ret\n",
    "        \n",
    "    def reset(self):\n",
    "        self.terminal = False\n",
    "        if self.initial_states:\n",
    "            self.state = loc = np.random.choice(self.initial_states)\n",
    "            return loc\n",
    "        else:\n",
    "            loc = np.random.uniform((0, 0), (self.grid.x, self.grid.y))\n",
    "            while self._check_overlap(*self.agent(loc).get_patch().get_verts()):\n",
    "                loc = np.random.uniform((0, 0), (self.grid.x, self.grid.y))\n",
    "            self.state = loc\n",
    "            return loc\n",
    "\n",
    "    def _correct(self, new):\n",
    "        check = self._check_overlap(*self.agent(new).get_patch().get_verts())\n",
    "        while check:\n",
    "            wall  = check[0]\n",
    "            verts = wall.get_verts()\n",
    "            path  = wall.get_path()\n",
    "\n",
    "            idx   = np.where(path.contains_points(self.agent(new).get_patch().get_verts(), wall.get_transform())[:4])[0]\n",
    "\n",
    "            a, b  = verts[idx]\n",
    "\n",
    "            if a[0] == b[0]:\n",
    "                if self.state[0] < a[0]:\n",
    "                    new -= (a[0] - self.state[0] - self.agent.dx, 0)\n",
    "                else:\n",
    "                    new -= (a[0] - self.state[0] + self.agent.dx, 0)\n",
    "            else:\n",
    "                if self.state[1] < a[1]:\n",
    "                    new -= (0, a[1] - self.state[1] - self.agent.dy)\n",
    "                else:\n",
    "                    new -= (0, a[1] - self.state[1] + self.agent.dy)\n",
    "        self.agent(new)\n",
    "        return new\n",
    "    \n",
    "    def step(self, action):\n",
    "        action = np.array(action)\n",
    "        assert action.ndim == 1 and len(action) == 2\n",
    "        new  = self._correct(self.state + action)\n",
    "        move = np.square(new - self.state).sum()\n",
    "        reward = self._check_terminal()\n",
    "        self.state = new\n",
    "        return move + reward, self.state, self.terminal\n",
    "        \n",
    "        \n",
    "    def render(self):\n",
    "        self.agent(self.state)\n",
    "        return self.grid.render(*[terminal[1] for terminal in self.terminal_states], self.agent)"
   ]
  },
  {
   "cell_type": "code",
   "execution_count": 4,
   "metadata": {},
   "outputs": [],
   "source": [
    "width = 0.4\n",
    "\n",
    "walls = [[(0, 0), 10, width],\n",
    "         [(0, 0), width, 10],\n",
    "         [(10 - width, 0), width, 10],\n",
    "         [(0, 10 - width), 10, width],\n",
    "         [(0, 5 - width / 2), 2.5, width],\n",
    "         [(3.5, 5 - width / 2), 3, width],\n",
    "         [(7.5, 5 - width / 2), 2.5, width],\n",
    "         [(5 - width / 2, 0), width, 2.5],\n",
    "         [(5 - width / 2, 3.5), width, 3],\n",
    "         [(5 - width / 2, 7.5), width, 2.5]]\n",
    "\n",
    "\n",
    "agent_patch = RectanglePatch((5, 2), width, width, fc = 'g', ec = 'k')\n",
    "gold_patch  = RectanglePatch((7, 7), width, width, fc = 'y', ec = 'k')\n",
    "\n",
    "grid  = Grid(10, 10, walls)"
   ]
  },
  {
   "cell_type": "code",
   "execution_count": 6,
   "metadata": {},
   "outputs": [
    {
     "data": {
      "image/png": "[encoded data removed]",
      "text/plain": [
       "<Figure size 432x288 with 1 Axes>"
      ]
     },
     "metadata": {
      "needs_background": "light"
     },
     "output_type": "display_data"
    }
   ],
   "source": [
    "gridworld = GridWorld(grid, agent_patch, [[10, gold_patch]])\n",
    "gridworld.reset()\n",
    "fig, ax = gridworld.render()\n",
    "\n",
    "ax.set_aspect('equal')"
   ]
  },
  {
   "cell_type": "code",
   "execution_count": 29,
   "metadata": {},
   "outputs": [],
   "source": [
    "locs = [np.array(gridworld.agent.loc)]\n",
    "\n",
    "# while not any(gridworld.agent(locs[-1]).get_patch().get_path().contains_points(gridworld.terminal_states[0][1].get_patch().get_verts())):\n",
    "for i in range(10):\n",
    "    delta = np.random.normal(np.clip(gridworld.terminal_states[0][1].loc - locs[-1], -0.1, 0.1), 0.02)\n",
    "    locs.append(locs[-1] + delta)\n",
    "    "
   ]
  },
  {
   "cell_type": "code",
   "execution_count": 28,
   "metadata": {},
   "outputs": [
    {
     "data": {
      "text/plain": [
       "array([5.67782527, 8.58755677])"
      ]
     },
     "execution_count": 28,
     "metadata": {},
     "output_type": "execute_result"
    }
   ],
   "source": []
  },
  {
   "cell_type": "code",
   "execution_count": 30,
   "metadata": {},
   "outputs": [
    {
     "data": {
      "text/plain": [
       "[array([5.67782527, 8.58755677]),\n",
       " array([5.77962298, 8.48504815]),\n",
       " array([5.88872456, 8.38177836]),\n",
       " array([5.97271602, 8.29497146]),\n",
       " array([6.02805574, 8.18442405]),\n",
       " array([6.15510188, 8.0785634 ]),\n",
       " array([6.2792062, 7.9996549]),\n",
       " array([6.38456501, 7.90333008]),\n",
       " array([6.49358466, 7.84228166]),\n",
       " array([6.59514817, 7.74626612]),\n",
       " array([6.67195613, 7.62510273])]"
      ]
     },
     "execution_count": 30,
     "metadata": {},
     "output_type": "execute_result"
    }
   ],
   "source": [
    "locs"
   ]
  },
  {
   "cell_type": "code",
   "execution_count": 122,
   "metadata": {},
   "outputs": [
    {
     "data": {
      "text/plain": [
       "array([6.36330184, 8.63170666])"
      ]
     },
     "execution_count": 122,
     "metadata": {},
     "output_type": "execute_result"
    }
   ],
   "source": []
  },
  {
   "cell_type": "code",
   "execution_count": 121,
   "metadata": {},
   "outputs": [
    {
     "data": {
      "text/plain": [
       "array([6.47782692, 8.54193264])"
      ]
     },
     "execution_count": 121,
     "metadata": {},
     "output_type": "execute_result"
    }
   ],
   "source": [
    "locs[0]"
   ]
  },
  {
   "cell_type": "code",
   "execution_count": 105,
   "metadata": {},
   "outputs": [
    {
     "data": {
      "text/plain": [
       "(11.0, array([7.19990186, 7.3173795 ]), True)"
      ]
     },
     "execution_count": 105,
     "metadata": {},
     "output_type": "execute_result"
    }
   ],
   "source": [
    "gridworld.step((1, 0))"
   ]
  },
  {
   "cell_type": "code",
   "execution_count": 106,
   "metadata": {},
   "outputs": [
    {
     "data": {
      "image/png": "[encoded data removed]",
      "text/plain": [
       "<Figure size 432x288 with 1 Axes>"
      ]
     },
     "metadata": {
      "needs_background": "light"
     },
     "output_type": "display_data"
    }
   ],
   "source": [
    "fig, ax = gridworld.render()\n",
    "\n",
    "ax.set_aspect('equal')"
   ]
  }
 ],
 "metadata": {
  "interpreter": {
   "hash": "8dca16016c2d4ab245247b0cca54328521f93bbda40bfa10199d14f725066261"
  },
  "kernelspec": {
   "display_name": "Python 3.10.4 ('env': venv)",
   "language": "python",
   "name": "python3"
  },
  "language_info": {
   "codemirror_mode": {
    "name": "ipython",
    "version": 3
   },
   "file_extension": ".py",
   "mimetype": "text/x-python",
   "name": "python",
   "nbconvert_exporter": "python",
   "pygments_lexer": "ipython3",
   "version": "3.10.4"
  },
  "orig_nbformat": 4
 },
 "nbformat": 4,
 "nbformat_minor": 2
}
